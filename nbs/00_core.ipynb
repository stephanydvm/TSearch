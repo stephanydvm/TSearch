{
 "cells": [
  {
   "cell_type": "code",
   "execution_count": null,
   "metadata": {},
   "outputs": [],
   "source": [
    "#default_exp core"
   ]
  },
  {
   "cell_type": "markdown",
   "metadata": {},
   "source": [
    "# TSearch\n",
    "\n",
    "> Implementation of Taboo Search Algorithm with a complete matrix."
   ]
  },
  {
   "cell_type": "code",
   "execution_count": null,
   "metadata": {},
   "outputs": [],
   "source": [
    "#hide\n",
    "from nbdev.showdoc import *\n",
    "import random, copy"
   ]
  },
  {
   "cell_type": "code",
   "execution_count": null,
   "metadata": {},
   "outputs": [],
   "source": [
    "def entrada(N):\n",
    "    # Leer matriz de distancias\n",
    "    costos = [[0]*N for i in range(N)]\n",
    "    for n in range(N-1):\n",
    "        n_cost = list(map(int,input().split()))\n",
    "        column = n+1\n",
    "        for i in range(len(n_cost)):\n",
    "            costos[n][column] = n_cost[i]\n",
    "            costos[column][n] = n_cost[i]\n",
    "            column+=1\n",
    "    return costos"
   ]
  },
  {
   "cell_type": "code",
   "execution_count": null,
   "metadata": {},
   "outputs": [],
   "source": [
    "def greedy(N,C):\n",
    "    sol = [0]\n",
    "    tot_cost = 0\n",
    "    mini = max(C[0])\n",
    "    city = 0\n",
    "    next_city = 0\n",
    "    while len(sol) < N:\n",
    "        city = sol[-1]\n",
    "        mini = max(C[city])\n",
    "        for this_city in range(N):\n",
    "            if city != this_city and this_city not in sol:\n",
    "                costo = C[city][this_city]\n",
    "                if costo < mini:\n",
    "                    mini = costo\n",
    "                    next_city = this_city\n",
    "        tot_cost += mini\n",
    "        sol.append(next_city)\n",
    "    tot_cost += C[0][next_city]   \n",
    "    return tot_cost, sol"
   ]
  },
  {
   "cell_type": "code",
   "execution_count": null,
   "metadata": {},
   "outputs": [],
   "source": [
    "def vecindario(N,x,T):\n",
    "    sols = []\n",
    "    # La posición que voy a cambiar\n",
    "    semilla = random.choice(range(1,N))\n",
    "    # Mientras en elemento que escogí esté en la lista Tabú\n",
    "    # tengo que escoger otro\n",
    "    while True:\n",
    "        if x[semilla] in T:\n",
    "            semilla = random.choice(range(1,N))\n",
    "        else:\n",
    "            break\n",
    "    # Voy a cambiar el elemento a todas las demás posiciones\n",
    "    for ns in range(1,N):\n",
    "        if ns != semilla:\n",
    "            sol = copy.copy(x)\n",
    "            sol[ns],sol[semilla] = sol[semilla],sol[ns]\n",
    "            sols.append(sol)\n",
    "    return x[semilla], sols"
   ]
  },
  {
   "cell_type": "code",
   "execution_count": null,
   "metadata": {},
   "outputs": [],
   "source": [
    "def f(x):\n",
    "    city = 0\n",
    "    costo = 0\n",
    "    for n_city in range(1,N):\n",
    "        costo += mat_cost[x[city]][x[n_city]]\n",
    "        city += 1\n",
    "    costo += mat_cost[x[-1]][x[0]]\n",
    "    return costo"
   ]
  },
  {
   "cell_type": "code",
   "execution_count": null,
   "metadata": {},
   "outputs": [],
   "source": [
    "def new_best(best,V):\n",
    "    for x in V:\n",
    "        f_1 = f(x)\n",
    "        f_2 = f(best)\n",
    "        if f_1 < f_2:\n",
    "            best = x\n",
    "    return best"
   ]
  },
  {
   "cell_type": "code",
   "execution_count": null,
   "metadata": {},
   "outputs": [],
   "source": [
    "def update_T(T):\n",
    "    to_pop = []\n",
    "    for key in T:\n",
    "        if T[key]-1 == 0:\n",
    "            to_pop.append(key)\n",
    "        else:\n",
    "            T[key]-=1\n",
    "    for key in to_pop:\n",
    "        T.pop(key)\n",
    "    T[new_T] = N//2\n",
    "    return T"
   ]
  },
  {
   "cell_type": "code",
   "execution_count": null,
   "metadata": {},
   "outputs": [],
   "source": []
  }
 ],
 "metadata": {
  "kernelspec": {
   "display_name": "Python 3",
   "language": "python",
   "name": "python3"
  }
 },
 "nbformat": 4,
 "nbformat_minor": 4
}
