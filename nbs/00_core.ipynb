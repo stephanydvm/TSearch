{
 "cells": [
  {
   "cell_type": "code",
   "execution_count": null,
   "metadata": {},
   "outputs": [],
   "source": [
    "#default_exp core"
   ]
  },
  {
   "cell_type": "markdown",
   "metadata": {},
   "source": [
    "# TSearch\n",
    "\n",
    "> Implementation of Taboo Search Algorithm with a complete matrix."
   ]
  },
  {
   "cell_type": "code",
   "execution_count": null,
   "metadata": {},
   "outputs": [],
   "source": [
    "#hide\n",
    "from nbdev.showdoc import *\n",
    "import random, copy"
   ]
  },
  {
   "cell_type": "code",
   "execution_count": null,
   "metadata": {},
   "outputs": [],
   "source": [
    "#exports\n",
    "def entrada(N):\n",
    "    \"\"\" Leer matriz de distancias. \n",
    "    Recibe: número de ciudades, N.\n",
    "    Regresa: matriz de distancias completa. \"\"\"\n",
    "    costos = [[0]*N for i in range(N)]\n",
    "    for n in range(N-1):\n",
    "        n_cost = list(map(int,input().split()))\n",
    "        column = n+1\n",
    "        for i in range(len(n_cost)):\n",
    "            costos[n][column] = n_cost[i]\n",
    "            costos[column][n] = n_cost[i]\n",
    "            column+=1\n",
    "    return costos"
   ]
  },
  {
   "cell_type": "code",
   "execution_count": null,
   "metadata": {},
   "outputs": [],
   "source": [
    "#exports\n",
    "def greedy(N,C):\n",
    "    \"\"\" Función Greedy para encontrar la solución inicial. \n",
    "    Recibe: número de ciudades, N; matriz de costos, C.\n",
    "    Regresa: costo total de la solución encontrada, solución encontrada. \"\"\"\n",
    "    sol = [0]\n",
    "    tot_cost = 0\n",
    "    mini = max(C[0])\n",
    "    city = 0\n",
    "    next_city = 0\n",
    "    while len(sol) < N:\n",
    "        city = sol[-1]\n",
    "        mini = max(C[city])\n",
    "        for this_city in range(N):\n",
    "            if city != this_city and this_city not in sol:\n",
    "                costo = C[city][this_city]\n",
    "                if costo < mini:\n",
    "                    mini = costo\n",
    "                    next_city = this_city\n",
    "        tot_cost += mini\n",
    "        sol.append(next_city)\n",
    "    tot_cost += C[0][next_city]   \n",
    "    return tot_cost, sol"
   ]
  },
  {
   "cell_type": "code",
   "execution_count": null,
   "metadata": {},
   "outputs": [],
   "source": [
    "#exports\n",
    "def vecindario(N,x,T):\n",
    "    \"\"\" Función para crear el vecindario o conjunto de nuevas soluciones candidatas.\n",
    "    Recibe: número de ciudades, N; solución x_k, x; lista Taboo, T.\n",
    "    Regresa: ciudad utilizada para crear el vecindario, vecindario.\n",
    "    \"\"\"\n",
    "    sols = []\n",
    "    semilla = random.choice(range(1,N))\n",
    "    while True:\n",
    "        if x[semilla] in T:\n",
    "            semilla = random.choice(range(1,N))\n",
    "        else:\n",
    "            break\n",
    "    for ns in range(1,N):\n",
    "        if ns != semilla:\n",
    "            sol = copy.copy(x)\n",
    "            sol[ns],sol[semilla] = sol[semilla],sol[ns]\n",
    "            sols.append(sol)\n",
    "    return x[semilla], sols"
   ]
  },
  {
   "cell_type": "code",
   "execution_count": null,
   "metadata": {},
   "outputs": [],
   "source": [
    "#exports\n",
    "def f(x):\n",
    "    \"\"\" Función para evaluar la solución x_k.\n",
    "    Recibe: solución x_k, x.\n",
    "    Regresa: costo de la solución.\n",
    "    \"\"\"\n",
    "    city = 0\n",
    "    costo = 0\n",
    "    for n_city in range(1,N):\n",
    "        costo += mat_cost[x[city]][x[n_city]]\n",
    "        city += 1\n",
    "    costo += mat_cost[x[-1]][x[0]]\n",
    "    return costo"
   ]
  },
  {
   "cell_type": "code",
   "execution_count": null,
   "metadata": {},
   "outputs": [],
   "source": [
    "#exports\n",
    "def new_best(best,V):\n",
    "    \"\"\" Función para determinar la mejor solución del vecindario.\n",
    "    Recibe: la mejor solución hasta ahora, best; el vecindario, V.\n",
    "    Regresa: la nueva mejor solución.\n",
    "    \"\"\"\n",
    "    for x in V:\n",
    "        f_1 = f(x)\n",
    "        f_2 = f(best)\n",
    "        if f_1 < f_2:\n",
    "            best = x\n",
    "    return best"
   ]
  },
  {
   "cell_type": "code",
   "execution_count": null,
   "metadata": {},
   "outputs": [],
   "source": [
    "#exports\n",
    "def update_T(T):\n",
    "    \"\"\" Funcipo para actualizar la lista Taboo.\n",
    "    Recibe: la lista Taboo, T.\n",
    "    Regresa: la lista Taboo actualizada.\n",
    "    \"\"\"\n",
    "    to_pop = []\n",
    "    for key in T:\n",
    "        if T[key]-1 == 0:\n",
    "            to_pop.append(key)\n",
    "        else:\n",
    "            T[key]-=1\n",
    "    for key in to_pop:\n",
    "        T.pop(key)\n",
    "    T[new_T] = N//2\n",
    "    return T"
   ]
  },
  {
   "cell_type": "code",
   "execution_count": null,
   "metadata": {},
   "outputs": [],
   "source": []
  }
 ],
 "metadata": {
  "kernelspec": {
   "display_name": "Python 3",
   "language": "python",
   "name": "python3"
  }
 },
 "nbformat": 4,
 "nbformat_minor": 4
}
