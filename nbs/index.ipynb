{
 "cells": [
  {
   "cell_type": "code",
   "execution_count": null,
   "metadata": {},
   "outputs": [],
   "source": [
    "#hide\n",
    "from TSearch.core import *"
   ]
  },
  {
   "cell_type": "markdown",
   "metadata": {},
   "source": [
    "# Taboo Search\n",
    "\n",
    "> Taboo Search Algorithm with a complete matrix."
   ]
  },
  {
   "cell_type": "markdown",
   "metadata": {},
   "source": [
    "## Install"
   ]
  },
  {
   "cell_type": "markdown",
   "metadata": {},
   "source": [
    "`pip install TSearch`"
   ]
  },
  {
   "cell_type": "markdown",
   "metadata": {},
   "source": [
    "## How to use"
   ]
  },
  {
   "cell_type": "markdown",
   "metadata": {},
   "source": [
    "Aquí el algoritmo.\n",
    "\n",
    "Recibes el número de ciudades:"
   ]
  },
  {
   "cell_type": "code",
   "execution_count": null,
   "metadata": {},
   "outputs": [],
   "source": [
    "N = int(input(\"Numero de ciudades: \"))"
   ]
  },
  {
   "cell_type": "markdown",
   "metadata": {},
   "source": [
    "Recibes el número máximo de iteraciones"
   ]
  },
  {
   "cell_type": "code",
   "execution_count": null,
   "metadata": {},
   "outputs": [],
   "source": [
    "I_max = int(input(\"Maximo de iteraciones: \"))"
   ]
  },
  {
   "cell_type": "markdown",
   "metadata": {},
   "source": [
    "Recibes la matriz de costos de una ciudad a otra"
   ]
  },
  {
   "cell_type": "code",
   "execution_count": null,
   "metadata": {},
   "outputs": [],
   "source": [
    "mat_cost = entrada(N)"
   ]
  },
  {
   "cell_type": "markdown",
   "metadata": {},
   "source": [
    "Encuentras una solución inicial con el método _Greedy_"
   ]
  },
  {
   "cell_type": "code",
   "execution_count": null,
   "metadata": {},
   "outputs": [],
   "source": [
    "CT, best_sol = greedy(N,mat_cost)"
   ]
  },
  {
   "cell_type": "markdown",
   "metadata": {},
   "source": [
    "Inicializas el contador de iteraciones, la lista Taboo como conjunto vacío, y el nuevo elemento a insertar en la lista Taboo."
   ]
  },
  {
   "cell_type": "code",
   "execution_count": null,
   "metadata": {},
   "outputs": [],
   "source": [
    "k = 0\n",
    "Taboo = {}\n",
    "new_T = None"
   ]
  },
  {
   "cell_type": "markdown",
   "metadata": {},
   "source": [
    "Y mientras las iteraciones no lleguen al máximo:"
   ]
  },
  {
   "cell_type": "code",
   "execution_count": null,
   "metadata": {},
   "outputs": [],
   "source": [
    "while k < I_max:\n",
    "    # Determinar el vecindario\n",
    "    new_T, V = vecindario(N,best_sol,Taboo.keys())\n",
    "    # Determinar la nueva mejor solución\n",
    "    best_sol = new_best(best_sol,V)\n",
    "    # Actualizar k\n",
    "    k += 1\n",
    "    # Actualizar la lista Taboo\n",
    "    Taboo = update_T(Taboo)"
   ]
  },
  {
   "cell_type": "code",
   "execution_count": null,
   "metadata": {},
   "outputs": [],
   "source": [
    "print(f(best_sol), best_sol)"
   ]
  },
  {
   "cell_type": "markdown",
   "metadata": {},
   "source": [
    "Ejemplo:\n",
    "\n",
    "Con la siguiente entrada:\n",
    "\n",
    "10 <br>\n",
    "100 <br>\n",
    "49 30 53 72 19 76 87 45 48<br>\n",
    "19 38 32 31 75 69 61 25<br>\n",
    "41 98 56 6 6 45 53<br>\n",
    "52 29 46 90 23 98<br>\n",
    "63 90 69 50 82<br>\n",
    "60 88 41 95<br>\n",
    "61 92 10<br>\n",
    "82 73<br>\n",
    "5<br>\n",
    "\n",
    "Debe obtener el siguiente resultado:<br>\n",
    "248 [0, 5, 3, 8, 9, 6, 2, 7, 4, 1]"
   ]
  },
  {
   "cell_type": "code",
   "execution_count": null,
   "metadata": {},
   "outputs": [],
   "source": []
  }
 ],
 "metadata": {
  "kernelspec": {
   "display_name": "Python 3",
   "language": "python",
   "name": "python3"
  }
 },
 "nbformat": 4,
 "nbformat_minor": 4
}
